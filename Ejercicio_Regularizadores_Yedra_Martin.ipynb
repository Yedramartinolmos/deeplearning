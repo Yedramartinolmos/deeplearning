{
  "nbformat": 4,
  "nbformat_minor": 0,
  "metadata": {
    "kernelspec": {
      "display_name": "Python 3",
      "language": "python",
      "name": "python3"
    },
    "language_info": {
      "codemirror_mode": {
        "name": "ipython",
        "version": 3
      },
      "file_extension": ".py",
      "mimetype": "text/x-python",
      "name": "python",
      "nbconvert_exporter": "python",
      "pygments_lexer": "ipython3",
      "version": "3.8.5"
    },
    "colab": {
      "name": "2_1_Un_primer_vistazo_a_una_Red_Neuronal.ipynb",
      "provenance": [],
      "include_colab_link": true
    },
    "accelerator": "GPU",
    "gpuClass": "standard"
  },
  "cells": [
    {
      "cell_type": "markdown",
      "metadata": {
        "id": "view-in-github",
        "colab_type": "text"
      },
      "source": [
        "<a href=\"https://colab.research.google.com/github/Yedramartinolmos/deeplearning/blob/main/Ejercicio_Regularizadores_Yedra_Martin.ipynb\" target=\"_parent\"><img src=\"https://colab.research.google.com/assets/colab-badge.svg\" alt=\"Open In Colab\"/></a>"
      ]
    },
    {
      "cell_type": "markdown",
      "metadata": {
        "id": "Ejg7Msp7rbkk"
      },
      "source": [
        "# Ejercicio con regularizadores"
      ]
    },
    {
      "cell_type": "code",
      "source": [
        "%tensorflow_version 2.x\n",
        "import tensorflow as tf\n",
        "from tensorflow import keras\n",
        "print(tf.keras.__version__)\n",
        "print(\"GPU Available:\", tf.config.list_physical_devices('GPU'))\n",
        "print(tf.__version__)\n",
        "from keras.datasets import mnist\n",
        "from keras import models\n",
        "from keras import layers\n",
        "import numpy as np\n",
        "import matplotlib.pyplot as plt\n",
        "from keras import regularizers"
      ],
      "metadata": {
        "id": "BSivef1i532C",
        "outputId": "73953a24-05f6-437a-b901-6a80ccce7ff3",
        "colab": {
          "base_uri": "https://localhost:8080/"
        }
      },
      "execution_count": 1,
      "outputs": [
        {
          "output_type": "stream",
          "name": "stdout",
          "text": [
            "Colab only includes TensorFlow 2.x; %tensorflow_version has no effect.\n",
            "2.9.0\n",
            "GPU Available: [PhysicalDevice(name='/physical_device:GPU:0', device_type='GPU')]\n",
            "2.9.2\n"
          ]
        }
      ]
    },
    {
      "cell_type": "code",
      "source": [
        "(train_images, train_labels), (test_images, test_labels) = mnist.load_data()# Descarga los datos de MNIST"
      ],
      "metadata": {
        "id": "3t3R6gU9-wUy",
        "outputId": "cac7d731-bffc-478d-945e-30e6f1fb77dd",
        "colab": {
          "base_uri": "https://localhost:8080/"
        }
      },
      "execution_count": 2,
      "outputs": [
        {
          "output_type": "stream",
          "name": "stdout",
          "text": [
            "Downloading data from https://storage.googleapis.com/tensorflow/tf-keras-datasets/mnist.npz\n",
            "11490434/11490434 [==============================] - 2s 0us/step\n"
          ]
        }
      ]
    },
    {
      "cell_type": "code",
      "source": [
        "# Prepara con reshape y normaliza las imágenes tanto de entrenamiento como de test\n",
        "train_images = train_images.reshape((60000, 28 * 28))\n",
        "test_images = test_images.reshape((10000, 28 * 28))\n",
        "\n",
        "train_images = train_images.astype('float32') / 255\n",
        "test_images = test_images.astype('float32') / 255"
      ],
      "metadata": {
        "id": "H6n5NeSz0U1d"
      },
      "execution_count": 3,
      "outputs": []
    },
    {
      "cell_type": "code",
      "source": [
        "# Crear un subconjunto de imágenes de entrenamiento que llamaré\n",
        "# validation_images, para hacer las validaciones, con las 10000 últimas imágenes \n",
        "# del set de datos de entrenamiento (train_images) (obviamente, lo mismo con las\n",
        "# etiquetas correspondientes -> validation_labels). Deja preparadas las 50K \n",
        "# primeras imágenes y etiquetas para entrenamiento (train_images y train_labels)\n",
        "\n",
        "validation_images = train_images[50000:]\n",
        "validation_labels = train_labels[50000:]\n",
        "\n",
        "train_images = train_images[:50000]\n",
        "train_labels = train_labels[:50000]\n",
        "\n",
        "\n"
      ],
      "metadata": {
        "id": "NKoZGyap0XAj"
      },
      "execution_count": 4,
      "outputs": []
    },
    {
      "cell_type": "code",
      "source": [
        "def crea_modelo(regularizador):\n",
        "  # Define una función que recibe un número del 0 al 4 que creará:\n",
        "  # un modelo secuencial con una capa de entrada densa de 512 neuronas\n",
        "  # con activación relu y la capa de salida que le corresponda según el problema\n",
        "  # Ahora, en función del número del regularizador:\n",
        "  # Si es 0, no mete ningún regularizador\n",
        "  # Si es 1, mete un regularizador de tipo l1 y valor 0.001\n",
        "  # Si es 2, mete un regularizador de tipo l2 y valor 0.001\n",
        "  # Si es 3, mete un regularizador de tipo l1_l2 y valor 0.001 para ambos\n",
        "  # Si es 4, mete un Dropout del 50% después de la primera capa densa\n",
        "  # Si es distinto que estos valores, escribe el error y retorna\n",
        "  # Al final, esta función pinta el summary del modelo y retorna el modelo creado\n",
        "\n",
        "  model = models.Sequential()\n",
        "\n",
        "  if regularizador == 0:\n",
        "    model.add(layers.Dense(512, activation='relu', input_shape=(28*28,)))\n",
        "  \n",
        "  elif regularizador == 1:\n",
        "    model.add(layers.Dense(512, kernel_regularizer=regularizers.l1(0.001), activation='relu', input_shape=(28*28,)))\n",
        "\n",
        "  elif regularizador == 2:\n",
        "    model.add(layers.Dense(512, kernel_regularizer=regularizers.l2(0.001), activation='relu', input_shape=(28*28,)))\n",
        "\n",
        "  elif regularizador == 3:\n",
        "    model.add(layers.Dense(512, kernel_regularizer=regularizers.l1_l2(l1=0.001,l2=0.001), activation='relu', input_shape=(28*28,)))\n",
        "\n",
        "  elif regularizador ==4:\n",
        "    model.add(layers.Dense(512, activation='relu', input_shape=(28*28,)))\n",
        "    model.add(layers.Dropout(0.5))\n",
        "  \n",
        "\n",
        "  # Si es distinto que estos valores, escribe el error y retorna\n",
        "  # Al final, esta función pinta el summary del modelo y retorna el modelo creado\n",
        "\n",
        "  else: \n",
        "    print('Error el numero debe estar entre 0-4')\n",
        "    return #cuidado con los indents\n",
        "  model.add(layers.Dense(10, activation = 'softmax'))\n",
        "  model.summary()\n",
        "  return model\n"
      ],
      "metadata": {
        "id": "6JnVLVfsAfkh"
      },
      "execution_count": 5,
      "outputs": []
    },
    {
      "cell_type": "code",
      "source": [
        "def compila_modelo(model): \n",
        "  # Define una función que recibe un modelo, lo compila con un optimizador\n",
        "  # 'rmsprop', con una función de pérdida 'sparse_categorical_crossentropy' y\n",
        "  # una métrica de precisión. La función retorna el modelo\n",
        "  model.compile(loss='sparse_categorical_crossentropy', optimizer='rmsprop', metrics=['accuracy'])\n",
        "  return model"
      ],
      "metadata": {
        "id": "qKyJ8KOT0aFt"
      },
      "execution_count": 6,
      "outputs": []
    },
    {
      "cell_type": "code",
      "source": [
        "def entrena_modelo(model):\n",
        "  # Define una función que entrena el modelo que se le pasa por parámetro,\n",
        "  # con las imágenes y etiquetas de entrenamiento, con 30 iteraciones y 128\n",
        "  # de tamaño de minilote y con el validation_data creado más arriba.\n",
        "  # Esta función devuelve un history\n",
        "  history = model.fit(train_images,train_labels,\n",
        "                    batch_size=128,\n",
        "                    epochs=30, validation_data=(validation_images, validation_labels))\n",
        "  return history\n"
      ],
      "metadata": {
        "id": "_yQ7SpOt0cBp"
      },
      "execution_count": 7,
      "outputs": []
    },
    {
      "cell_type": "code",
      "source": [
        "def pinta_perdida_entrenamiento_validacion(historia):\n",
        "  history_dict = historia.history\n",
        "  acc = historia.history['accuracy']\n",
        "  val_acc = historia.history['val_accuracy']\n",
        "  loss = historia.history['loss']\n",
        "  val_loss = historia.history['val_loss']\n",
        "  epochs = range(1, len(acc) + 1)\n",
        "  # \"bo\" es para \"punto azun\"\n",
        "  plt.plot(epochs, loss, 'bo', label='Pérdida de Entrenamiento')\n",
        "  # \"b\" es para \"linea continua azul\"\n",
        "  plt.plot(epochs, val_loss, 'b', label='Pérdida de Validación')\n",
        "  plt.title('Pérdida de Entrenamiento y Validación')\n",
        "  plt.xlabel('Epochs')\n",
        "  plt.ylabel('Loss')\n",
        "  plt.legend()\n",
        "  plt.show()"
      ],
      "metadata": {
        "id": "bJrRNc4WwPN2"
      },
      "execution_count": 8,
      "outputs": []
    },
    {
      "cell_type": "code",
      "source": [
        "def pinta_precision_entrenamiento_validacion(historia):\n",
        "  history_dict = historia.history\n",
        "  acc = historia.history['accuracy']\n",
        "  val_acc = historia.history['val_accuracy']\n",
        "  loss = historia.history['loss']\n",
        "  val_loss = historia.history['val_loss']\n",
        "  plt.clf()   # Limpia la figura\n",
        "  acc_values = history_dict['accuracy']\n",
        "  val_acc_values = history_dict['val_accuracy']\n",
        "  epochs = range(1, len(acc) + 1)\n",
        "  plt.plot(epochs, acc, 'bo', label='Precisión de Entrenamiento')\n",
        "  plt.plot(epochs, val_acc, 'b', label='Precisión de Validación')\n",
        "  plt.title('Precisión de Entrenamiento y Valización')\n",
        "  plt.xlabel('Epochs')\n",
        "  plt.ylabel('Loss')\n",
        "  plt.legend()\n",
        "  plt.show()"
      ],
      "metadata": {
        "id": "Mafxp6D3wYQx"
      },
      "execution_count": 9,
      "outputs": []
    },
    {
      "cell_type": "markdown",
      "source": [
        "## Una vez definidas todas las funciones anteriores, ejecuta las siguientes llamadas a dichas funciones y deduce que está pasando y, para este contexto, que es lo que mejor está funcionando"
      ],
      "metadata": {
        "id": "6nnQYysYA3_T"
      }
    },
    {
      "cell_type": "markdown",
      "source": [
        "### Caso 0, sin regularizadores"
      ],
      "metadata": {
        "id": "OrGwDgaFBax4"
      }
    },
    {
      "cell_type": "code",
      "source": [
        "network0 = crea_modelo(0)"
      ],
      "metadata": {
        "id": "uXvhlXg79Zi9",
        "outputId": "a9e2d970-e987-4d61-cb62-a6a706437556",
        "colab": {
          "base_uri": "https://localhost:8080/"
        }
      },
      "execution_count": 10,
      "outputs": [
        {
          "output_type": "stream",
          "name": "stdout",
          "text": [
            "Model: \"sequential\"\n",
            "_________________________________________________________________\n",
            " Layer (type)                Output Shape              Param #   \n",
            "=================================================================\n",
            " dense (Dense)               (None, 512)               401920    \n",
            "                                                                 \n",
            " dense_1 (Dense)             (None, 10)                5130      \n",
            "                                                                 \n",
            "=================================================================\n",
            "Total params: 407,050\n",
            "Trainable params: 407,050\n",
            "Non-trainable params: 0\n",
            "_________________________________________________________________\n"
          ]
        }
      ]
    },
    {
      "cell_type": "code",
      "source": [
        "print(network0)"
      ],
      "metadata": {
        "id": "19ChUXaAsO-5",
        "outputId": "d7237b95-6026-4e00-f692-7dfbf83156ec",
        "colab": {
          "base_uri": "https://localhost:8080/"
        }
      },
      "execution_count": 11,
      "outputs": [
        {
          "output_type": "stream",
          "name": "stdout",
          "text": [
            "<keras.engine.sequential.Sequential object at 0x7f31001b1b90>\n"
          ]
        }
      ]
    },
    {
      "cell_type": "code",
      "source": [
        "network0 = compila_modelo(network0)"
      ],
      "metadata": {
        "id": "Ff0HC3NR9ez8"
      },
      "execution_count": 12,
      "outputs": []
    },
    {
      "cell_type": "code",
      "source": [
        "historia0 = entrena_modelo(network0)"
      ],
      "metadata": {
        "id": "x9zQDOlw9g6V",
        "outputId": "799ff8dc-a332-4c7d-b15e-7f415948e6fc",
        "colab": {
          "base_uri": "https://localhost:8080/"
        }
      },
      "execution_count": 13,
      "outputs": [
        {
          "output_type": "stream",
          "name": "stdout",
          "text": [
            "Epoch 1/30\n",
            "391/391 [==============================] - 7s 8ms/step - loss: 0.2870 - accuracy: 0.9163 - val_loss: 0.1348 - val_accuracy: 0.9634\n",
            "Epoch 2/30\n",
            "391/391 [==============================] - 2s 6ms/step - loss: 0.1162 - accuracy: 0.9665 - val_loss: 0.1065 - val_accuracy: 0.9700\n",
            "Epoch 3/30\n",
            "391/391 [==============================] - 2s 4ms/step - loss: 0.0759 - accuracy: 0.9774 - val_loss: 0.0913 - val_accuracy: 0.9726\n",
            "Epoch 4/30\n",
            "391/391 [==============================] - 2s 4ms/step - loss: 0.0541 - accuracy: 0.9839 - val_loss: 0.0906 - val_accuracy: 0.9741\n",
            "Epoch 5/30\n",
            "391/391 [==============================] - 1s 4ms/step - loss: 0.0412 - accuracy: 0.9877 - val_loss: 0.0754 - val_accuracy: 0.9777\n",
            "Epoch 6/30\n",
            "391/391 [==============================] - 1s 4ms/step - loss: 0.0306 - accuracy: 0.9905 - val_loss: 0.0738 - val_accuracy: 0.9788\n",
            "Epoch 7/30\n",
            "391/391 [==============================] - 1s 3ms/step - loss: 0.0235 - accuracy: 0.9932 - val_loss: 0.0740 - val_accuracy: 0.9796\n",
            "Epoch 8/30\n",
            "391/391 [==============================] - 1s 3ms/step - loss: 0.0179 - accuracy: 0.9950 - val_loss: 0.0834 - val_accuracy: 0.9779\n",
            "Epoch 9/30\n",
            "391/391 [==============================] - 1s 3ms/step - loss: 0.0138 - accuracy: 0.9961 - val_loss: 0.0819 - val_accuracy: 0.9797\n",
            "Epoch 10/30\n",
            "391/391 [==============================] - 2s 4ms/step - loss: 0.0103 - accuracy: 0.9972 - val_loss: 0.0792 - val_accuracy: 0.9808\n",
            "Epoch 11/30\n",
            "391/391 [==============================] - 2s 4ms/step - loss: 0.0078 - accuracy: 0.9979 - val_loss: 0.0929 - val_accuracy: 0.9787\n",
            "Epoch 12/30\n",
            "391/391 [==============================] - 2s 4ms/step - loss: 0.0057 - accuracy: 0.9985 - val_loss: 0.0961 - val_accuracy: 0.9791\n",
            "Epoch 13/30\n",
            "391/391 [==============================] - 1s 3ms/step - loss: 0.0051 - accuracy: 0.9987 - val_loss: 0.0995 - val_accuracy: 0.9777\n",
            "Epoch 14/30\n",
            "391/391 [==============================] - 1s 4ms/step - loss: 0.0040 - accuracy: 0.9988 - val_loss: 0.0915 - val_accuracy: 0.9801\n",
            "Epoch 15/30\n",
            "391/391 [==============================] - 2s 4ms/step - loss: 0.0026 - accuracy: 0.9993 - val_loss: 0.0960 - val_accuracy: 0.9818\n",
            "Epoch 16/30\n",
            "391/391 [==============================] - 2s 4ms/step - loss: 0.0021 - accuracy: 0.9995 - val_loss: 0.1088 - val_accuracy: 0.9788\n",
            "Epoch 17/30\n",
            "391/391 [==============================] - 1s 3ms/step - loss: 0.0017 - accuracy: 0.9996 - val_loss: 0.1067 - val_accuracy: 0.9808\n",
            "Epoch 18/30\n",
            "391/391 [==============================] - 2s 4ms/step - loss: 0.0014 - accuracy: 0.9996 - val_loss: 0.1069 - val_accuracy: 0.9804\n",
            "Epoch 19/30\n",
            "391/391 [==============================] - 2s 4ms/step - loss: 0.0010 - accuracy: 0.9997 - val_loss: 0.1079 - val_accuracy: 0.9805\n",
            "Epoch 20/30\n",
            "391/391 [==============================] - 2s 4ms/step - loss: 9.2430e-04 - accuracy: 0.9998 - val_loss: 0.1113 - val_accuracy: 0.9817\n",
            "Epoch 21/30\n",
            "391/391 [==============================] - 2s 4ms/step - loss: 6.8920e-04 - accuracy: 0.9998 - val_loss: 0.1187 - val_accuracy: 0.9804\n",
            "Epoch 22/30\n",
            "391/391 [==============================] - 1s 4ms/step - loss: 5.3920e-04 - accuracy: 0.9999 - val_loss: 0.1305 - val_accuracy: 0.9794\n",
            "Epoch 23/30\n",
            "391/391 [==============================] - 2s 4ms/step - loss: 5.3474e-04 - accuracy: 0.9998 - val_loss: 0.1158 - val_accuracy: 0.9825\n",
            "Epoch 24/30\n",
            "391/391 [==============================] - 2s 4ms/step - loss: 2.3760e-04 - accuracy: 1.0000 - val_loss: 0.1247 - val_accuracy: 0.9816\n",
            "Epoch 25/30\n",
            "391/391 [==============================] - 1s 4ms/step - loss: 2.7905e-04 - accuracy: 0.9999 - val_loss: 0.1213 - val_accuracy: 0.9811\n",
            "Epoch 26/30\n",
            "391/391 [==============================] - 2s 4ms/step - loss: 3.4081e-04 - accuracy: 0.9999 - val_loss: 0.1251 - val_accuracy: 0.9815\n",
            "Epoch 27/30\n",
            "391/391 [==============================] - 2s 4ms/step - loss: 1.5049e-04 - accuracy: 1.0000 - val_loss: 0.1435 - val_accuracy: 0.9803\n",
            "Epoch 28/30\n",
            "391/391 [==============================] - 1s 4ms/step - loss: 1.1215e-04 - accuracy: 1.0000 - val_loss: 0.1283 - val_accuracy: 0.9820\n",
            "Epoch 29/30\n",
            "391/391 [==============================] - 1s 4ms/step - loss: 9.6604e-05 - accuracy: 1.0000 - val_loss: 0.1360 - val_accuracy: 0.9809\n",
            "Epoch 30/30\n",
            "391/391 [==============================] - 2s 4ms/step - loss: 1.4223e-04 - accuracy: 1.0000 - val_loss: 0.1392 - val_accuracy: 0.9814\n"
          ]
        }
      ]
    },
    {
      "cell_type": "code",
      "source": [
        "pinta_perdida_entrenamiento_validacion(historia0)"
      ],
      "metadata": {
        "id": "OvhDZvS8-0mG",
        "outputId": "b239e5ac-e28a-49b8-85b1-b23cba6da1a8",
        "colab": {
          "base_uri": "https://localhost:8080/",
          "height": 295
        }
      },
      "execution_count": 14,
      "outputs": [
        {
          "output_type": "display_data",
          "data": {
            "text/plain": [
              "<Figure size 432x288 with 1 Axes>"
            ],
            "image/png": "[encoded data removed]"
          },
          "metadata": {
            "needs_background": "light"
          }
        }
      ]
    },
    {
      "cell_type": "code",
      "source": [
        "pinta_precision_entrenamiento_validacion(historia0)"
      ],
      "metadata": {
        "id": "UuiL2CCH_fGN",
        "outputId": "b470eb85-f71f-4ebe-98db-7fec5a26b191",
        "colab": {
          "base_uri": "https://localhost:8080/",
          "height": 295
        }
      },
      "execution_count": 15,
      "outputs": [
        {
          "output_type": "display_data",
          "data": {
            "text/plain": [
              "<Figure size 432x288 with 1 Axes>"
            ],
            "image/png": "[encoded data removed]"
          },
          "metadata": {
            "needs_background": "light"
          }
        }
      ]
    },
    {
      "cell_type": "markdown",
      "source": [
        "### Caso 1: Con regularizador l1"
      ],
      "metadata": {
        "id": "pw6iBGO5Bg8J"
      }
    },
    {
      "cell_type": "code",
      "source": [
        "network1 = crea_modelo(1)"
      ],
      "metadata": {
        "id": "D6JPtw5zCz-1",
        "outputId": "68913831-fdc8-4563-e188-3d0310d2156a",
        "colab": {
          "base_uri": "https://localhost:8080/"
        }
      },
      "execution_count": 16,
      "outputs": [
        {
          "output_type": "stream",
          "name": "stdout",
          "text": [
            "Model: \"sequential_1\"\n",
            "_________________________________________________________________\n",
            " Layer (type)                Output Shape              Param #   \n",
            "=================================================================\n",
            " dense_2 (Dense)             (None, 512)               401920    \n",
            "                                                                 \n",
            " dense_3 (Dense)             (None, 10)                5130      \n",
            "                                                                 \n",
            "=================================================================\n",
            "Total params: 407,050\n",
            "Trainable params: 407,050\n",
            "Non-trainable params: 0\n",
            "_________________________________________________________________\n"
          ]
        }
      ]
    },
    {
      "cell_type": "code",
      "source": [
        "network1 = compila_modelo(network1)"
      ],
      "metadata": {
        "id": "zL3Gp7wvFRq3"
      },
      "execution_count": 17,
      "outputs": []
    },
    {
      "cell_type": "code",
      "source": [
        "historia1 = entrena_modelo(network1)"
      ],
      "metadata": {
        "id": "G2FG1Z4xFW72",
        "outputId": "fba53669-a01c-4886-e693-e975e030ee94",
        "colab": {
          "base_uri": "https://localhost:8080/"
        }
      },
      "execution_count": 18,
      "outputs": [
        {
          "output_type": "stream",
          "name": "stdout",
          "text": [
            "Epoch 1/30\n",
            "391/391 [==============================] - 2s 4ms/step - loss: 2.1466 - accuracy: 0.8446 - val_loss: 1.0566 - val_accuracy: 0.8705\n",
            "Epoch 2/30\n",
            "391/391 [==============================] - 1s 4ms/step - loss: 0.9619 - accuracy: 0.8814 - val_loss: 0.8458 - val_accuracy: 0.9149\n",
            "Epoch 3/30\n",
            "391/391 [==============================] - 2s 4ms/step - loss: 0.8350 - accuracy: 0.9031 - val_loss: 0.7487 - val_accuracy: 0.9296\n",
            "Epoch 4/30\n",
            "391/391 [==============================] - 2s 4ms/step - loss: 0.7615 - accuracy: 0.9172 - val_loss: 0.7855 - val_accuracy: 0.9027\n",
            "Epoch 5/30\n",
            "391/391 [==============================] - 1s 4ms/step - loss: 0.7118 - accuracy: 0.9238 - val_loss: 0.6746 - val_accuracy: 0.9351\n",
            "Epoch 6/30\n",
            "391/391 [==============================] - 1s 4ms/step - loss: 0.6773 - accuracy: 0.9296 - val_loss: 0.6451 - val_accuracy: 0.9346\n",
            "Epoch 7/30\n",
            "391/391 [==============================] - 2s 4ms/step - loss: 0.6506 - accuracy: 0.9331 - val_loss: 0.6237 - val_accuracy: 0.9440\n",
            "Epoch 8/30\n",
            "391/391 [==============================] - 1s 4ms/step - loss: 0.6278 - accuracy: 0.9376 - val_loss: 0.6097 - val_accuracy: 0.9388\n",
            "Epoch 9/30\n",
            "391/391 [==============================] - 2s 4ms/step - loss: 0.6101 - accuracy: 0.9401 - val_loss: 0.5851 - val_accuracy: 0.9484\n",
            "Epoch 10/30\n",
            "391/391 [==============================] - 1s 4ms/step - loss: 0.5950 - accuracy: 0.9429 - val_loss: 0.5638 - val_accuracy: 0.9532\n",
            "Epoch 11/30\n",
            "391/391 [==============================] - 1s 4ms/step - loss: 0.5825 - accuracy: 0.9447 - val_loss: 0.5554 - val_accuracy: 0.9563\n",
            "Epoch 12/30\n",
            "391/391 [==============================] - 2s 4ms/step - loss: 0.5716 - accuracy: 0.9465 - val_loss: 0.5501 - val_accuracy: 0.9555\n",
            "Epoch 13/30\n",
            "391/391 [==============================] - 2s 4ms/step - loss: 0.5604 - accuracy: 0.9477 - val_loss: 0.5558 - val_accuracy: 0.9552\n",
            "Epoch 14/30\n",
            "391/391 [==============================] - 1s 4ms/step - loss: 0.5510 - accuracy: 0.9501 - val_loss: 0.5424 - val_accuracy: 0.9575\n",
            "Epoch 15/30\n",
            "391/391 [==============================] - 1s 4ms/step - loss: 0.5446 - accuracy: 0.9508 - val_loss: 0.5351 - val_accuracy: 0.9544\n",
            "Epoch 16/30\n",
            "391/391 [==============================] - 1s 4ms/step - loss: 0.5386 - accuracy: 0.9517 - val_loss: 0.5118 - val_accuracy: 0.9593\n",
            "Epoch 17/30\n",
            "391/391 [==============================] - 1s 4ms/step - loss: 0.5339 - accuracy: 0.9521 - val_loss: 0.5031 - val_accuracy: 0.9619\n",
            "Epoch 18/30\n",
            "391/391 [==============================] - 1s 4ms/step - loss: 0.5267 - accuracy: 0.9521 - val_loss: 0.5030 - val_accuracy: 0.9639\n",
            "Epoch 19/30\n",
            "391/391 [==============================] - 1s 4ms/step - loss: 0.5207 - accuracy: 0.9534 - val_loss: 0.5525 - val_accuracy: 0.9464\n",
            "Epoch 20/30\n",
            "391/391 [==============================] - 1s 4ms/step - loss: 0.5171 - accuracy: 0.9543 - val_loss: 0.5122 - val_accuracy: 0.9566\n",
            "Epoch 21/30\n",
            "391/391 [==============================] - 2s 5ms/step - loss: 0.5125 - accuracy: 0.9545 - val_loss: 0.5072 - val_accuracy: 0.9587\n",
            "Epoch 22/30\n",
            "391/391 [==============================] - 2s 4ms/step - loss: 0.5084 - accuracy: 0.9557 - val_loss: 0.5184 - val_accuracy: 0.9560\n",
            "Epoch 23/30\n",
            "391/391 [==============================] - 1s 4ms/step - loss: 0.5060 - accuracy: 0.9560 - val_loss: 0.4879 - val_accuracy: 0.9611\n",
            "Epoch 24/30\n",
            "391/391 [==============================] - 1s 4ms/step - loss: 0.5036 - accuracy: 0.9563 - val_loss: 0.4983 - val_accuracy: 0.9581\n",
            "Epoch 25/30\n",
            "391/391 [==============================] - 1s 4ms/step - loss: 0.5005 - accuracy: 0.9563 - val_loss: 0.5270 - val_accuracy: 0.9501\n",
            "Epoch 26/30\n",
            "391/391 [==============================] - 1s 4ms/step - loss: 0.4952 - accuracy: 0.9583 - val_loss: 0.4777 - val_accuracy: 0.9644\n",
            "Epoch 27/30\n",
            "391/391 [==============================] - 2s 4ms/step - loss: 0.4928 - accuracy: 0.9582 - val_loss: 0.4693 - val_accuracy: 0.9642\n",
            "Epoch 28/30\n",
            "391/391 [==============================] - 2s 4ms/step - loss: 0.4898 - accuracy: 0.9586 - val_loss: 0.4750 - val_accuracy: 0.9644\n",
            "Epoch 29/30\n",
            "391/391 [==============================] - 1s 4ms/step - loss: 0.4889 - accuracy: 0.9591 - val_loss: 0.4762 - val_accuracy: 0.9647\n",
            "Epoch 30/30\n",
            "391/391 [==============================] - 2s 4ms/step - loss: 0.4865 - accuracy: 0.9593 - val_loss: 0.5005 - val_accuracy: 0.9539\n"
          ]
        }
      ]
    },
    {
      "cell_type": "code",
      "source": [
        "pinta_perdida_entrenamiento_validacion(historia1)"
      ],
      "metadata": {
        "id": "Vyv3yFtiFitw",
        "outputId": "8410305e-f713-4cf9-820b-5572e982c934",
        "colab": {
          "base_uri": "https://localhost:8080/",
          "height": 295
        }
      },
      "execution_count": 19,
      "outputs": [
        {
          "output_type": "display_data",
          "data": {
            "text/plain": [
              "<Figure size 432x288 with 1 Axes>"
            ],
            "image/png": "[encoded data removed]"
          },
          "metadata": {
            "needs_background": "light"
          }
        }
      ]
    },
    {
      "cell_type": "code",
      "source": [
        "pinta_precision_entrenamiento_validacion(historia1)"
      ],
      "metadata": {
        "id": "pVUerJsqFo7K",
        "outputId": "e9e51751-a2c8-43d4-d73b-8893872d0211",
        "colab": {
          "base_uri": "https://localhost:8080/",
          "height": 295
        }
      },
      "execution_count": 20,
      "outputs": [
        {
          "output_type": "display_data",
          "data": {
            "text/plain": [
              "<Figure size 432x288 with 1 Axes>"
            ],
            "image/png": "[encoded data removed]"
          },
          "metadata": {
            "needs_background": "light"
          }
        }
      ]
    },
    {
      "cell_type": "markdown",
      "source": [
        "### Caso 2: Con regularizador l2"
      ],
      "metadata": {
        "id": "hklwKNlMBzya"
      }
    },
    {
      "cell_type": "code",
      "source": [
        "network2 = crea_modelo(2)"
      ],
      "metadata": {
        "id": "tjIs0FziG5Ja",
        "outputId": "165e5f9a-7490-4ba7-cb7a-7cc4f81d73c2",
        "colab": {
          "base_uri": "https://localhost:8080/"
        }
      },
      "execution_count": 21,
      "outputs": [
        {
          "output_type": "stream",
          "name": "stdout",
          "text": [
            "Model: \"sequential_2\"\n",
            "_________________________________________________________________\n",
            " Layer (type)                Output Shape              Param #   \n",
            "=================================================================\n",
            " dense_4 (Dense)             (None, 512)               401920    \n",
            "                                                                 \n",
            " dense_5 (Dense)             (None, 10)                5130      \n",
            "                                                                 \n",
            "=================================================================\n",
            "Total params: 407,050\n",
            "Trainable params: 407,050\n",
            "Non-trainable params: 0\n",
            "_________________________________________________________________\n"
          ]
        }
      ]
    },
    {
      "cell_type": "code",
      "source": [
        "network2 = compila_modelo(network2)"
      ],
      "metadata": {
        "id": "UCdA0K_qyTUq"
      },
      "execution_count": 22,
      "outputs": []
    },
    {
      "cell_type": "code",
      "source": [
        "historia2 = entrena_modelo(network2)"
      ],
      "metadata": {
        "id": "WSuomx5oybpu",
        "outputId": "37042f7d-42d0-409a-84f4-c5d808691e40",
        "colab": {
          "base_uri": "https://localhost:8080/"
        }
      },
      "execution_count": 23,
      "outputs": [
        {
          "output_type": "stream",
          "name": "stdout",
          "text": [
            "Epoch 1/30\n",
            "391/391 [==============================] - 2s 4ms/step - loss: 0.5250 - accuracy: 0.9126 - val_loss: 0.3012 - val_accuracy: 0.9520\n",
            "Epoch 2/30\n",
            "391/391 [==============================] - 1s 4ms/step - loss: 0.2633 - accuracy: 0.9540 - val_loss: 0.2317 - val_accuracy: 0.9600\n",
            "Epoch 3/30\n",
            "391/391 [==============================] - 2s 4ms/step - loss: 0.2094 - accuracy: 0.9635 - val_loss: 0.1895 - val_accuracy: 0.9684\n",
            "Epoch 4/30\n",
            "391/391 [==============================] - 2s 4ms/step - loss: 0.1872 - accuracy: 0.9664 - val_loss: 0.1790 - val_accuracy: 0.9712\n",
            "Epoch 5/30\n",
            "391/391 [==============================] - 1s 4ms/step - loss: 0.1729 - accuracy: 0.9699 - val_loss: 0.1982 - val_accuracy: 0.9623\n",
            "Epoch 6/30\n",
            "391/391 [==============================] - 1s 4ms/step - loss: 0.1633 - accuracy: 0.9721 - val_loss: 0.1585 - val_accuracy: 0.9719\n",
            "Epoch 7/30\n",
            "391/391 [==============================] - 1s 4ms/step - loss: 0.1572 - accuracy: 0.9725 - val_loss: 0.1544 - val_accuracy: 0.9766\n",
            "Epoch 8/30\n",
            "391/391 [==============================] - 1s 3ms/step - loss: 0.1510 - accuracy: 0.9740 - val_loss: 0.1799 - val_accuracy: 0.9650\n",
            "Epoch 9/30\n",
            "391/391 [==============================] - 2s 4ms/step - loss: 0.1475 - accuracy: 0.9746 - val_loss: 0.1615 - val_accuracy: 0.9682\n",
            "Epoch 10/30\n",
            "391/391 [==============================] - 1s 4ms/step - loss: 0.1447 - accuracy: 0.9752 - val_loss: 0.1654 - val_accuracy: 0.9689\n",
            "Epoch 11/30\n",
            "391/391 [==============================] - 2s 4ms/step - loss: 0.1392 - accuracy: 0.9766 - val_loss: 0.1611 - val_accuracy: 0.9699\n",
            "Epoch 12/30\n",
            "391/391 [==============================] - 2s 4ms/step - loss: 0.1361 - accuracy: 0.9770 - val_loss: 0.1947 - val_accuracy: 0.9600\n",
            "Epoch 13/30\n",
            "391/391 [==============================] - 1s 4ms/step - loss: 0.1338 - accuracy: 0.9771 - val_loss: 0.1525 - val_accuracy: 0.9740\n",
            "Epoch 14/30\n",
            "391/391 [==============================] - 1s 3ms/step - loss: 0.1314 - accuracy: 0.9781 - val_loss: 0.1397 - val_accuracy: 0.9774\n",
            "Epoch 15/30\n",
            "391/391 [==============================] - 1s 4ms/step - loss: 0.1304 - accuracy: 0.9779 - val_loss: 0.1415 - val_accuracy: 0.9752\n",
            "Epoch 16/30\n",
            "391/391 [==============================] - 1s 4ms/step - loss: 0.1261 - accuracy: 0.9793 - val_loss: 0.1733 - val_accuracy: 0.9653\n",
            "Epoch 17/30\n",
            "391/391 [==============================] - 2s 4ms/step - loss: 0.1253 - accuracy: 0.9790 - val_loss: 0.1337 - val_accuracy: 0.9775\n",
            "Epoch 18/30\n",
            "391/391 [==============================] - 1s 4ms/step - loss: 0.1237 - accuracy: 0.9789 - val_loss: 0.1377 - val_accuracy: 0.9771\n",
            "Epoch 19/30\n",
            "391/391 [==============================] - 1s 4ms/step - loss: 0.1202 - accuracy: 0.9800 - val_loss: 0.1617 - val_accuracy: 0.9671\n",
            "Epoch 20/30\n",
            "391/391 [==============================] - 1s 4ms/step - loss: 0.1197 - accuracy: 0.9802 - val_loss: 0.1509 - val_accuracy: 0.9724\n",
            "Epoch 21/30\n",
            "391/391 [==============================] - 1s 3ms/step - loss: 0.1192 - accuracy: 0.9801 - val_loss: 0.1369 - val_accuracy: 0.9773\n",
            "Epoch 22/30\n",
            "391/391 [==============================] - 2s 4ms/step - loss: 0.1155 - accuracy: 0.9808 - val_loss: 0.1493 - val_accuracy: 0.9686\n",
            "Epoch 23/30\n",
            "391/391 [==============================] - 1s 4ms/step - loss: 0.1152 - accuracy: 0.9816 - val_loss: 0.1454 - val_accuracy: 0.9729\n",
            "Epoch 24/30\n",
            "391/391 [==============================] - 2s 5ms/step - loss: 0.1151 - accuracy: 0.9806 - val_loss: 0.1294 - val_accuracy: 0.9761\n",
            "Epoch 25/30\n",
            "391/391 [==============================] - 2s 5ms/step - loss: 0.1112 - accuracy: 0.9819 - val_loss: 0.1400 - val_accuracy: 0.9737\n",
            "Epoch 26/30\n",
            "391/391 [==============================] - 2s 4ms/step - loss: 0.1096 - accuracy: 0.9825 - val_loss: 0.1548 - val_accuracy: 0.9704\n",
            "Epoch 27/30\n",
            "391/391 [==============================] - 1s 4ms/step - loss: 0.1132 - accuracy: 0.9809 - val_loss: 0.1281 - val_accuracy: 0.9773\n",
            "Epoch 28/30\n",
            "391/391 [==============================] - 1s 4ms/step - loss: 0.1098 - accuracy: 0.9817 - val_loss: 0.1411 - val_accuracy: 0.9732\n",
            "Epoch 29/30\n",
            "391/391 [==============================] - 1s 4ms/step - loss: 0.1075 - accuracy: 0.9822 - val_loss: 0.1690 - val_accuracy: 0.9628\n",
            "Epoch 30/30\n",
            "391/391 [==============================] - 2s 4ms/step - loss: 0.1083 - accuracy: 0.9823 - val_loss: 0.1485 - val_accuracy: 0.9715\n"
          ]
        }
      ]
    },
    {
      "cell_type": "code",
      "source": [
        "pinta_perdida_entrenamiento_validacion(historia2)"
      ],
      "metadata": {
        "id": "aXXzm8tpyj6X",
        "outputId": "065f9cb1-0a91-4381-e44f-4d70417313c5",
        "colab": {
          "base_uri": "https://localhost:8080/",
          "height": 295
        }
      },
      "execution_count": 24,
      "outputs": [
        {
          "output_type": "display_data",
          "data": {
            "text/plain": [
              "<Figure size 432x288 with 1 Axes>"
            ],
            "image/png": "[encoded data removed]"
          },
          "metadata": {
            "needs_background": "light"
          }
        }
      ]
    },
    {
      "cell_type": "code",
      "source": [
        "pinta_precision_entrenamiento_validacion(historia2)"
      ],
      "metadata": {
        "id": "CLTsg5LTypH9",
        "outputId": "3c3eeef9-cd1c-4aa0-adbb-df50f0139231",
        "colab": {
          "base_uri": "https://localhost:8080/",
          "height": 295
        }
      },
      "execution_count": 25,
      "outputs": [
        {
          "output_type": "display_data",
          "data": {
            "text/plain": [
              "<Figure size 432x288 with 1 Axes>"
            ],
            "image/png": "[encoded data removed]"
          },
          "metadata": {
            "needs_background": "light"
          }
        }
      ]
    },
    {
      "cell_type": "markdown",
      "source": [
        "### Caso 3: Con regularizador l1_l2"
      ],
      "metadata": {
        "id": "692oWz8oB82n"
      }
    },
    {
      "cell_type": "code",
      "source": [
        "network3 = crea_modelo(3)"
      ],
      "metadata": {
        "id": "5fdxkjoKzFcu",
        "outputId": "dc9a3ef5-7719-4494-c781-527cfa2c10bb",
        "colab": {
          "base_uri": "https://localhost:8080/"
        }
      },
      "execution_count": 26,
      "outputs": [
        {
          "output_type": "stream",
          "name": "stdout",
          "text": [
            "Model: \"sequential_3\"\n",
            "_________________________________________________________________\n",
            " Layer (type)                Output Shape              Param #   \n",
            "=================================================================\n",
            " dense_6 (Dense)             (None, 512)               401920    \n",
            "                                                                 \n",
            " dense_7 (Dense)             (None, 10)                5130      \n",
            "                                                                 \n",
            "=================================================================\n",
            "Total params: 407,050\n",
            "Trainable params: 407,050\n",
            "Non-trainable params: 0\n",
            "_________________________________________________________________\n"
          ]
        }
      ]
    },
    {
      "cell_type": "code",
      "source": [
        "network3 = compila_modelo(network3)"
      ],
      "metadata": {
        "id": "VJzs9A2yzPhx"
      },
      "execution_count": 27,
      "outputs": []
    },
    {
      "cell_type": "code",
      "source": [
        "historia3 = entrena_modelo(network3)"
      ],
      "metadata": {
        "id": "1JCUbcCQzY6E",
        "outputId": "a347519d-a98c-4df0-aea2-55ead9c241cc",
        "colab": {
          "base_uri": "https://localhost:8080/"
        }
      },
      "execution_count": 28,
      "outputs": [
        {
          "output_type": "stream",
          "name": "stdout",
          "text": [
            "Epoch 1/30\n",
            "391/391 [==============================] - 2s 4ms/step - loss: 2.1637 - accuracy: 0.8418 - val_loss: 1.0822 - val_accuracy: 0.8573\n",
            "Epoch 2/30\n",
            "391/391 [==============================] - 1s 4ms/step - loss: 0.9787 - accuracy: 0.8781 - val_loss: 0.8926 - val_accuracy: 0.9012\n",
            "Epoch 3/30\n",
            "391/391 [==============================] - 2s 4ms/step - loss: 0.8565 - accuracy: 0.8996 - val_loss: 0.8247 - val_accuracy: 0.9089\n",
            "Epoch 4/30\n",
            "391/391 [==============================] - 1s 4ms/step - loss: 0.7828 - accuracy: 0.9124 - val_loss: 0.7276 - val_accuracy: 0.9288\n",
            "Epoch 5/30\n",
            "391/391 [==============================] - 2s 4ms/step - loss: 0.7330 - accuracy: 0.9201 - val_loss: 0.6828 - val_accuracy: 0.9338\n",
            "Epoch 6/30\n",
            "391/391 [==============================] - 2s 4ms/step - loss: 0.6975 - accuracy: 0.9266 - val_loss: 0.6616 - val_accuracy: 0.9384\n",
            "Epoch 7/30\n",
            "391/391 [==============================] - 2s 4ms/step - loss: 0.6693 - accuracy: 0.9314 - val_loss: 0.6253 - val_accuracy: 0.9420\n",
            "Epoch 8/30\n",
            "391/391 [==============================] - 1s 4ms/step - loss: 0.6462 - accuracy: 0.9358 - val_loss: 0.6033 - val_accuracy: 0.9472\n",
            "Epoch 9/30\n",
            "391/391 [==============================] - 1s 4ms/step - loss: 0.6266 - accuracy: 0.9381 - val_loss: 0.6623 - val_accuracy: 0.9244\n",
            "Epoch 10/30\n",
            "391/391 [==============================] - 1s 4ms/step - loss: 0.6116 - accuracy: 0.9398 - val_loss: 0.5939 - val_accuracy: 0.9450\n",
            "Epoch 11/30\n",
            "391/391 [==============================] - 2s 4ms/step - loss: 0.5974 - accuracy: 0.9438 - val_loss: 0.5966 - val_accuracy: 0.9420\n",
            "Epoch 12/30\n",
            "391/391 [==============================] - 1s 4ms/step - loss: 0.5867 - accuracy: 0.9458 - val_loss: 0.5818 - val_accuracy: 0.9440\n",
            "Epoch 13/30\n",
            "391/391 [==============================] - 1s 4ms/step - loss: 0.5786 - accuracy: 0.9460 - val_loss: 0.5659 - val_accuracy: 0.9464\n",
            "Epoch 14/30\n",
            "391/391 [==============================] - 2s 4ms/step - loss: 0.5679 - accuracy: 0.9484 - val_loss: 0.5416 - val_accuracy: 0.9538\n",
            "Epoch 15/30\n",
            "391/391 [==============================] - 1s 4ms/step - loss: 0.5614 - accuracy: 0.9486 - val_loss: 0.5422 - val_accuracy: 0.9560\n",
            "Epoch 16/30\n",
            "391/391 [==============================] - 1s 4ms/step - loss: 0.5544 - accuracy: 0.9495 - val_loss: 0.5367 - val_accuracy: 0.9542\n",
            "Epoch 17/30\n",
            "391/391 [==============================] - 1s 4ms/step - loss: 0.5486 - accuracy: 0.9499 - val_loss: 0.5394 - val_accuracy: 0.9558\n",
            "Epoch 18/30\n",
            "391/391 [==============================] - 1s 4ms/step - loss: 0.5438 - accuracy: 0.9509 - val_loss: 0.5252 - val_accuracy: 0.9561\n",
            "Epoch 19/30\n",
            "391/391 [==============================] - 1s 4ms/step - loss: 0.5373 - accuracy: 0.9522 - val_loss: 0.5498 - val_accuracy: 0.9480\n",
            "Epoch 20/30\n",
            "391/391 [==============================] - 1s 4ms/step - loss: 0.5342 - accuracy: 0.9517 - val_loss: 0.5397 - val_accuracy: 0.9517\n",
            "Epoch 21/30\n",
            "391/391 [==============================] - 1s 4ms/step - loss: 0.5291 - accuracy: 0.9533 - val_loss: 0.5092 - val_accuracy: 0.9629\n",
            "Epoch 22/30\n",
            "391/391 [==============================] - 1s 4ms/step - loss: 0.5249 - accuracy: 0.9544 - val_loss: 0.5313 - val_accuracy: 0.9503\n",
            "Epoch 23/30\n",
            "391/391 [==============================] - 2s 4ms/step - loss: 0.5215 - accuracy: 0.9535 - val_loss: 0.5162 - val_accuracy: 0.9590\n",
            "Epoch 24/30\n",
            "391/391 [==============================] - 1s 4ms/step - loss: 0.5191 - accuracy: 0.9549 - val_loss: 0.5806 - val_accuracy: 0.9362\n",
            "Epoch 25/30\n",
            "391/391 [==============================] - 2s 4ms/step - loss: 0.5155 - accuracy: 0.9553 - val_loss: 0.4974 - val_accuracy: 0.9603\n",
            "Epoch 26/30\n",
            "391/391 [==============================] - 1s 4ms/step - loss: 0.5118 - accuracy: 0.9554 - val_loss: 0.5159 - val_accuracy: 0.9567\n",
            "Epoch 27/30\n",
            "391/391 [==============================] - 2s 4ms/step - loss: 0.5082 - accuracy: 0.9559 - val_loss: 0.4934 - val_accuracy: 0.9612\n",
            "Epoch 28/30\n",
            "391/391 [==============================] - 2s 4ms/step - loss: 0.5063 - accuracy: 0.9561 - val_loss: 0.4892 - val_accuracy: 0.9641\n",
            "Epoch 29/30\n",
            "391/391 [==============================] - 2s 4ms/step - loss: 0.5047 - accuracy: 0.9567 - val_loss: 0.4826 - val_accuracy: 0.9650\n",
            "Epoch 30/30\n",
            "391/391 [==============================] - 1s 4ms/step - loss: 0.5002 - accuracy: 0.9569 - val_loss: 0.4884 - val_accuracy: 0.9614\n"
          ]
        }
      ]
    },
    {
      "cell_type": "code",
      "source": [
        "pinta_perdida_entrenamiento_validacion(historia3)"
      ],
      "metadata": {
        "id": "I8XzPVtyze8y",
        "outputId": "d333018a-c3f4-4608-ae74-80b58436d344",
        "colab": {
          "base_uri": "https://localhost:8080/",
          "height": 295
        }
      },
      "execution_count": 29,
      "outputs": [
        {
          "output_type": "display_data",
          "data": {
            "text/plain": [
              "<Figure size 432x288 with 1 Axes>"
            ],
            "image/png": "[encoded data removed]"
          },
          "metadata": {
            "needs_background": "light"
          }
        }
      ]
    },
    {
      "cell_type": "code",
      "source": [
        "pinta_precision_entrenamiento_validacion(historia3)"
      ],
      "metadata": {
        "id": "nKk7AmM8zi3A",
        "outputId": "5c1b9c1f-5ff4-4d58-da6c-3d16c9a0936a",
        "colab": {
          "base_uri": "https://localhost:8080/",
          "height": 295
        }
      },
      "execution_count": 30,
      "outputs": [
        {
          "output_type": "display_data",
          "data": {
            "text/plain": [
              "<Figure size 432x288 with 1 Axes>"
            ],
            "image/png": "[encoded data removed]"
          },
          "metadata": {
            "needs_background": "light"
          }
        }
      ]
    },
    {
      "cell_type": "markdown",
      "source": [
        "### Caso 4: Con Droput"
      ],
      "metadata": {
        "id": "OPVcbgcXCFRL"
      }
    },
    {
      "cell_type": "code",
      "source": [
        "network4 = crea_modelo(4)"
      ],
      "metadata": {
        "id": "5MVbUNX11Pgr",
        "outputId": "169d72e3-ce67-4756-8148-3cd5fcbad43d",
        "colab": {
          "base_uri": "https://localhost:8080/"
        }
      },
      "execution_count": 31,
      "outputs": [
        {
          "output_type": "stream",
          "name": "stdout",
          "text": [
            "Model: \"sequential_4\"\n",
            "_________________________________________________________________\n",
            " Layer (type)                Output Shape              Param #   \n",
            "=================================================================\n",
            " dense_8 (Dense)             (None, 512)               401920    \n",
            "                                                                 \n",
            " dropout (Dropout)           (None, 512)               0         \n",
            "                                                                 \n",
            " dense_9 (Dense)             (None, 10)                5130      \n",
            "                                                                 \n",
            "=================================================================\n",
            "Total params: 407,050\n",
            "Trainable params: 407,050\n",
            "Non-trainable params: 0\n",
            "_________________________________________________________________\n"
          ]
        }
      ]
    },
    {
      "cell_type": "code",
      "source": [
        "network4 = compila_modelo(network4)"
      ],
      "metadata": {
        "id": "pT-13IKI1UpW"
      },
      "execution_count": 32,
      "outputs": []
    },
    {
      "cell_type": "code",
      "source": [
        "historia4 = entrena_modelo(network4)"
      ],
      "metadata": {
        "id": "kNWidx1S1aCH",
        "outputId": "ffbd7a81-4413-4a21-aad2-8b6093e90f6f",
        "colab": {
          "base_uri": "https://localhost:8080/"
        }
      },
      "execution_count": 33,
      "outputs": [
        {
          "output_type": "stream",
          "name": "stdout",
          "text": [
            "Epoch 1/30\n",
            "391/391 [==============================] - 2s 4ms/step - loss: 0.3492 - accuracy: 0.8960 - val_loss: 0.1623 - val_accuracy: 0.9547\n",
            "Epoch 2/30\n",
            "391/391 [==============================] - 1s 4ms/step - loss: 0.1712 - accuracy: 0.9491 - val_loss: 0.1188 - val_accuracy: 0.9662\n",
            "Epoch 3/30\n",
            "391/391 [==============================] - 2s 4ms/step - loss: 0.1315 - accuracy: 0.9612 - val_loss: 0.0994 - val_accuracy: 0.9725\n",
            "Epoch 4/30\n",
            "391/391 [==============================] - 2s 4ms/step - loss: 0.1089 - accuracy: 0.9675 - val_loss: 0.0894 - val_accuracy: 0.9748\n",
            "Epoch 5/30\n",
            "391/391 [==============================] - 2s 4ms/step - loss: 0.0958 - accuracy: 0.9716 - val_loss: 0.0855 - val_accuracy: 0.9769\n",
            "Epoch 6/30\n",
            "391/391 [==============================] - 1s 3ms/step - loss: 0.0842 - accuracy: 0.9749 - val_loss: 0.0814 - val_accuracy: 0.9774\n",
            "Epoch 7/30\n",
            "391/391 [==============================] - 1s 4ms/step - loss: 0.0774 - accuracy: 0.9763 - val_loss: 0.0827 - val_accuracy: 0.9776\n",
            "Epoch 8/30\n",
            "391/391 [==============================] - 1s 3ms/step - loss: 0.0707 - accuracy: 0.9783 - val_loss: 0.0788 - val_accuracy: 0.9798\n",
            "Epoch 9/30\n",
            "391/391 [==============================] - 1s 3ms/step - loss: 0.0640 - accuracy: 0.9804 - val_loss: 0.0784 - val_accuracy: 0.9798\n",
            "Epoch 10/30\n",
            "391/391 [==============================] - 2s 4ms/step - loss: 0.0611 - accuracy: 0.9823 - val_loss: 0.0769 - val_accuracy: 0.9810\n",
            "Epoch 11/30\n",
            "391/391 [==============================] - 2s 4ms/step - loss: 0.0546 - accuracy: 0.9831 - val_loss: 0.0814 - val_accuracy: 0.9798\n",
            "Epoch 12/30\n",
            "391/391 [==============================] - 1s 4ms/step - loss: 0.0544 - accuracy: 0.9838 - val_loss: 0.0758 - val_accuracy: 0.9802\n",
            "Epoch 13/30\n",
            "391/391 [==============================] - 1s 4ms/step - loss: 0.0492 - accuracy: 0.9861 - val_loss: 0.0769 - val_accuracy: 0.9808\n",
            "Epoch 14/30\n",
            "391/391 [==============================] - 1s 4ms/step - loss: 0.0462 - accuracy: 0.9858 - val_loss: 0.0810 - val_accuracy: 0.9805\n",
            "Epoch 15/30\n",
            "391/391 [==============================] - 1s 4ms/step - loss: 0.0476 - accuracy: 0.9856 - val_loss: 0.0796 - val_accuracy: 0.9805\n",
            "Epoch 16/30\n",
            "391/391 [==============================] - 2s 4ms/step - loss: 0.0431 - accuracy: 0.9870 - val_loss: 0.0807 - val_accuracy: 0.9819\n",
            "Epoch 17/30\n",
            "391/391 [==============================] - 2s 4ms/step - loss: 0.0397 - accuracy: 0.9879 - val_loss: 0.0818 - val_accuracy: 0.9804\n",
            "Epoch 18/30\n",
            "391/391 [==============================] - 2s 4ms/step - loss: 0.0378 - accuracy: 0.9884 - val_loss: 0.0878 - val_accuracy: 0.9817\n",
            "Epoch 19/30\n",
            "391/391 [==============================] - 1s 4ms/step - loss: 0.0376 - accuracy: 0.9887 - val_loss: 0.0795 - val_accuracy: 0.9827\n",
            "Epoch 20/30\n",
            "391/391 [==============================] - 1s 4ms/step - loss: 0.0366 - accuracy: 0.9885 - val_loss: 0.0827 - val_accuracy: 0.9820\n",
            "Epoch 21/30\n",
            "391/391 [==============================] - 2s 4ms/step - loss: 0.0362 - accuracy: 0.9889 - val_loss: 0.0847 - val_accuracy: 0.9817\n",
            "Epoch 22/30\n",
            "391/391 [==============================] - 1s 4ms/step - loss: 0.0341 - accuracy: 0.9897 - val_loss: 0.0864 - val_accuracy: 0.9817\n",
            "Epoch 23/30\n",
            "391/391 [==============================] - 1s 4ms/step - loss: 0.0326 - accuracy: 0.9908 - val_loss: 0.0899 - val_accuracy: 0.9817\n",
            "Epoch 24/30\n",
            "391/391 [==============================] - 1s 4ms/step - loss: 0.0324 - accuracy: 0.9903 - val_loss: 0.0879 - val_accuracy: 0.9814\n",
            "Epoch 25/30\n",
            "391/391 [==============================] - 2s 4ms/step - loss: 0.0292 - accuracy: 0.9905 - val_loss: 0.0915 - val_accuracy: 0.9826\n",
            "Epoch 26/30\n",
            "391/391 [==============================] - 2s 4ms/step - loss: 0.0290 - accuracy: 0.9907 - val_loss: 0.0913 - val_accuracy: 0.9836\n",
            "Epoch 27/30\n",
            "391/391 [==============================] - 1s 4ms/step - loss: 0.0299 - accuracy: 0.9909 - val_loss: 0.0903 - val_accuracy: 0.9830\n",
            "Epoch 28/30\n",
            "391/391 [==============================] - 2s 4ms/step - loss: 0.0296 - accuracy: 0.9907 - val_loss: 0.0863 - val_accuracy: 0.9823\n",
            "Epoch 29/30\n",
            "391/391 [==============================] - 2s 4ms/step - loss: 0.0284 - accuracy: 0.9919 - val_loss: 0.0929 - val_accuracy: 0.9825\n",
            "Epoch 30/30\n",
            "391/391 [==============================] - 1s 4ms/step - loss: 0.0268 - accuracy: 0.9919 - val_loss: 0.0943 - val_accuracy: 0.9830\n"
          ]
        }
      ]
    },
    {
      "cell_type": "code",
      "source": [
        "pinta_perdida_entrenamiento_validacion(historia4)"
      ],
      "metadata": {
        "id": "R9pI34Yr1gBO",
        "outputId": "e714cdcb-8362-4fa7-ccca-4bd6e8b92c75",
        "colab": {
          "base_uri": "https://localhost:8080/",
          "height": 295
        }
      },
      "execution_count": 34,
      "outputs": [
        {
          "output_type": "display_data",
          "data": {
            "text/plain": [
              "<Figure size 432x288 with 1 Axes>"
            ],
            "image/png": "[encoded data removed]"
          },
          "metadata": {
            "needs_background": "light"
          }
        }
      ]
    },
    {
      "cell_type": "code",
      "source": [
        "pinta_precision_entrenamiento_validacion(historia4)"
      ],
      "metadata": {
        "id": "EwEIEOKx1lQr",
        "outputId": "3c1c6abc-7a99-42b9-d72b-7b5ed96c7ceb",
        "colab": {
          "base_uri": "https://localhost:8080/",
          "height": 295
        }
      },
      "execution_count": 35,
      "outputs": [
        {
          "output_type": "display_data",
          "data": {
            "text/plain": [
              "<Figure size 432x288 with 1 Axes>"
            ],
            "image/png": "[encoded data removed]"
          },
          "metadata": {
            "needs_background": "light"
          }
        }
      ]
    },
    {
      "cell_type": "markdown",
      "source": [
        "### Caso 5: Error de código de regularizador"
      ],
      "metadata": {
        "id": "e6rlKx2nCOgU"
      }
    },
    {
      "cell_type": "code",
      "source": [
        "network5 = crea_modelo(5)"
      ],
      "metadata": {
        "id": "SqGDm8VM1rwR",
        "outputId": "64050421-6756-4830-f99a-b3947f69157d",
        "colab": {
          "base_uri": "https://localhost:8080/"
        }
      },
      "execution_count": 36,
      "outputs": [
        {
          "output_type": "stream",
          "name": "stdout",
          "text": [
            "Error el numero debe estar entre 0-4\n"
          ]
        }
      ]
    },
    {
      "cell_type": "markdown",
      "source": [
        "### CONCLUSIONES"
      ],
      "metadata": {
        "id": "IklUu29cCcVe"
      }
    },
    {
      "cell_type": "markdown",
      "source": [
        "Comparemos el resultado ... segun el regularizador que se le aplica a ...\n",
        "\n",
        "¿Qué es la regularización?\n",
        "\n",
        "La regularización en una red neuronal es una técnica que podemos utilizar para reducir el sobreajuste en nuestro modelo de red neuronal con el objetivo final de optimizar este mismo.\n",
        "\n",
        "\n",
        "*   Caso 0 (Sin Regulizadores)\n",
        "*   Caso 1 (Regularizador l1)\n",
        "*   Caso 2 (Regularizador l2)\n",
        "*   Caso 3 (Regularizador l1_l2\n",
        "*   Caso 4 (Usando Dropout)\n",
        "\n",
        "\n"
      ],
      "metadata": {
        "id": "cB_OYjjaChzN"
      }
    }
  ]
}